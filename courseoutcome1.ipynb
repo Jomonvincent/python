{
 "cells": [
  {
   "cell_type": "markdown",
   "id": "e830a53c",
   "metadata": {},
   "source": [
    "# Course outcome 1"
   ]
  },
  {
   "cell_type": "markdown",
   "id": "fcf82210",
   "metadata": {},
   "source": [
    "## 2.Future leap year"
   ]
  },
  {
   "cell_type": "code",
   "execution_count": 1,
   "id": "e4f14e43",
   "metadata": {},
   "outputs": [
    {
     "name": "stdout",
     "output_type": "stream",
     "text": [
      "Enter the start: 2024\n",
      "Enter the end: 2032\n",
      "2024\n",
      "2028\n"
     ]
    }
   ],
   "source": [
    "start=int(input(\"Enter the start: \"))\n",
    "end=int(input(\"Enter the end: \"))\n",
    "for years in range(start,end):\n",
    "    if ((years%4)==0 and (years%100)!=0) or (years%400)==0 :\n",
    "        print(years)"
   ]
  },
  {
   "cell_type": "markdown",
   "id": "fc8be9e9",
   "metadata": {},
   "source": [
    "## 3.List comprehension"
   ]
  },
  {
   "cell_type": "markdown",
   "id": "7fcf6396",
   "metadata": {},
   "source": [
    "### A)Generate positive list of numbers from a given list of integers "
   ]
  },
  {
   "cell_type": "code",
   "execution_count": 5,
   "id": "a22c5578",
   "metadata": {},
   "outputs": [
    {
     "name": "stdout",
     "output_type": "stream",
     "text": [
      "[5, 7, 12]\n"
     ]
    }
   ],
   "source": [
    "numbers=[-10, 5, -3, 7, -1, 0, 12]\n",
    "positive_numbers=[num for num in numbers if num > 0]\n",
    "print(positive_numbers)\n"
   ]
  },
  {
   "cell_type": "markdown",
   "id": "56d41eed",
   "metadata": {},
   "source": [
    "### (b)  Square of N numbers"
   ]
  },
  {
   "cell_type": "code",
   "execution_count": 4,
   "id": "286a4036",
   "metadata": {},
   "outputs": [
    {
     "name": "stdout",
     "output_type": "stream",
     "text": [
      "Enter a number: 6\n",
      "[1, 4, 9, 16, 25, 36]\n"
     ]
    }
   ],
   "source": [
    "n=int(input(\"Enter a number: \"))\n",
    "squares=[num**2 for num in range(1,n+1)]\n",
    "print(squares)"
   ]
  },
  {
   "cell_type": "markdown",
   "id": "1d6363b9",
   "metadata": {},
   "source": [
    " ### (c) Form a list of vowels selected from a given word "
   ]
  },
  {
   "cell_type": "code",
   "execution_count": 11,
   "id": "97522908",
   "metadata": {},
   "outputs": [
    {
     "name": "stdout",
     "output_type": "stream",
     "text": [
      "Enter a word: killer\n",
      "['i', 'e']\n"
     ]
    }
   ],
   "source": [
    "word=input(\"Enter a word: \")\n",
    "vowels=[char for char in word if char in 'aeiou'or char in 'AEIOU']\n",
    "print(vowels)"
   ]
  },
  {
   "cell_type": "markdown",
   "id": "5295d2cd",
   "metadata": {},
   "source": [
    "### (d) List ordinal value of each element of a word"
   ]
  },
  {
   "cell_type": "code",
   "execution_count": 10,
   "id": "b85526fc",
   "metadata": {},
   "outputs": [
    {
     "name": "stdout",
     "output_type": "stream",
     "text": [
      "Enter a word: hai\n",
      "[104, 97, 105]\n"
     ]
    }
   ],
   "source": [
    "word=input(\"Enter a word: \")\n",
    "ordinals=[ord(char) for char in word]\n",
    "print(ordinals)"
   ]
  },
  {
   "cell_type": "markdown",
   "id": "b0f7dd65",
   "metadata": {},
   "source": [
    "## 4. Count the occurrences of each word in a line of text."
   ]
  },
  {
   "cell_type": "code",
   "execution_count": 2,
   "id": "02f4f28c",
   "metadata": {},
   "outputs": [
    {
     "name": "stdout",
     "output_type": "stream",
     "text": [
      "Enter a line of text: hi all\n",
      "Word frequencies in the line of text:\n",
      "'hi': 1\n",
      "'all': 1\n"
     ]
    }
   ],
   "source": [
    "user_input = input(\"Enter a line of text: \")\n",
    "\n",
    "words = user_input.split()\n",
    "\n",
    "word_freq = {}\n",
    "\n",
    "for word in words:\n",
    "    if word in word_freq:\n",
    "        word_freq[word] += 1\n",
    "    else:\n",
    "        word_freq[word] = 1\n",
    "\n",
    "print(\"Word frequencies in the line of text:\")\n",
    "for word, freq in word_freq.items():\n",
    "    print(f\"'{word}': {freq}\")"
   ]
  },
  {
   "cell_type": "markdown",
   "id": "4d328f56",
   "metadata": {},
   "source": [
    "## 5. Prompt the user for a list of integers. For all values greater than 100, store ‘over’ instead."
   ]
  },
  {
   "cell_type": "code",
   "execution_count": 21,
   "id": "36b82541",
   "metadata": {},
   "outputs": [
    {
     "name": "stdout",
     "output_type": "stream",
     "text": [
      "Enter some values seperated by space: 1 2 3 123\n",
      "[1, 2, 3, 'over']\n"
     ]
    }
   ],
   "source": [
    "list1=input(\"Enter some values seperated by space: \")\n",
    "list2=list1.split()\n",
    "pro_list=[]\n",
    "for values in list2:\n",
    "    int_value=int(values)\n",
    "    if int_value>100:\n",
    "        pro_list.append('over')\n",
    "    else:\n",
    "        pro_list.append(int_value)\n",
    "print(pro_list)     "
   ]
  },
  {
   "cell_type": "markdown",
   "id": "508a903b",
   "metadata": {},
   "source": [
    " ## 6. Store a list of first names. Count the occurrences of ‘a’ within the list"
   ]
  },
  {
   "cell_type": "code",
   "execution_count": 24,
   "id": "6a4c2bc5",
   "metadata": {},
   "outputs": [
    {
     "name": "stdout",
     "output_type": "stream",
     "text": [
      "3\n"
     ]
    }
   ],
   "source": [
    "list1=['Nithin','Nandu','Philomina','Karthik']\n",
    "count=0\n",
    "for name in list1:\n",
    "    if 'a' in name:\n",
    "        count=count+1\n",
    "print(count)"
   ]
  },
  {
   "cell_type": "markdown",
   "id": "fbf94ab6",
   "metadata": {},
   "source": [
    " ## 7. Enter 2 lists of integers. Check "
   ]
  },
  {
   "cell_type": "markdown",
   "id": "2c5f695b",
   "metadata": {},
   "source": [
    "###  (a) Whether list are of same length "
   ]
  },
  {
   "cell_type": "code",
   "execution_count": 37,
   "id": "ad365c97",
   "metadata": {},
   "outputs": [
    {
     "name": "stdout",
     "output_type": "stream",
     "text": [
      "Enter some values seperated by space: 1 2 3 4\n",
      "Enter some values seperated by space: 2 3 4 5 6\n",
      "Different length\n"
     ]
    }
   ],
   "source": [
    "list1=input(\"Enter some values seperated by space: \").split()\n",
    "list2=input(\"Enter some values seperated by space: \").split()\n",
    "list1 = [int(i) for i in list1]\n",
    "list2 = [int(i) for i in list2]\n",
    "if(len(list1)==len(list2)):\n",
    "    print(\"Same length\")\n",
    "else:\n",
    "    print(\"Different length\")"
   ]
  },
  {
   "cell_type": "markdown",
   "id": "b8553a76",
   "metadata": {},
   "source": [
    "### (b) Whether list sums to same value "
   ]
  },
  {
   "cell_type": "code",
   "execution_count": 39,
   "id": "dc8bddf5",
   "metadata": {},
   "outputs": [
    {
     "name": "stdout",
     "output_type": "stream",
     "text": [
      "Enter some values seperated by space: 1 2 3 4\n",
      "Enter some values seperated by space: 6 4\n",
      "Same sum\n"
     ]
    }
   ],
   "source": [
    "list1=input(\"Enter some values seperated by space: \").split()\n",
    "list2=input(\"Enter some values seperated by space: \").split()\n",
    "list1 = [int(i) for i in list1]\n",
    "list2 = [int(i) for i in list2]\n",
    "if(sum(list1)==sum(list2)):\n",
    "    print(\"Same sum\")\n",
    "else:\n",
    "    print(\"Different sum\")"
   ]
  },
  {
   "cell_type": "markdown",
   "id": "26f5cea6",
   "metadata": {},
   "source": [
    "### (c) Whether any value occur in both\n"
   ]
  },
  {
   "cell_type": "code",
   "execution_count": 1,
   "id": "dfb8e53e",
   "metadata": {},
   "outputs": [
    {
     "name": "stdout",
     "output_type": "stream",
     "text": [
      "Enter some values seperated by space: 3 4 5 6\n",
      "Enter some values seperated by space: 5 7 8 9\n",
      "Common values: {5}\n"
     ]
    }
   ],
   "source": [
    "list1=input(\"Enter some values seperated by space: \").split()\n",
    "list2=input(\"Enter some values seperated by space: \").split()\n",
    "list1 = [int(i) for i in list1]\n",
    "list2 = [int(i) for i in list2]\n",
    "common_values = set(list1).intersection(list2)  \n",
    "if common_values:\n",
    "    print(\"Common values:\", common_values) \n",
    "else: \n",
    "    print(\"No common values found.\")"
   ]
  },
  {
   "cell_type": "markdown",
   "id": "cce1e4b9",
   "metadata": {},
   "source": [
    "## 8. Get a string from given string where all occurences of first character replaced with '$',except the first character. [eg:onion -> oni$n]"
   ]
  },
  {
   "cell_type": "code",
   "execution_count": 5,
   "id": "ec5d5486",
   "metadata": {},
   "outputs": [
    {
     "name": "stdout",
     "output_type": "stream",
     "text": [
      "Enter a word: doordash\n",
      "door$ash\n"
     ]
    }
   ],
   "source": [
    "def replace_char(s):\n",
    "    first_char = s[0]\n",
    "    return first_char + s[1:].replace(first_char, '$')\n",
    "\n",
    "string =input(\"Enter a word: \")\n",
    "new_string = replace_char(string)\n",
    "print(new_string)\n"
   ]
  },
  {
   "cell_type": "markdown",
   "id": "e668268e",
   "metadata": {},
   "source": [
    "## 9.Create a string from given string where first and last characters are replaced."
   ]
  },
  {
   "cell_type": "code",
   "execution_count": 7,
   "id": "f536bdd6",
   "metadata": {},
   "outputs": [
    {
     "name": "stdout",
     "output_type": "stream",
     "text": [
      "Enter a word: rerrot\n",
      "terror\n"
     ]
    }
   ],
   "source": [
    "def swap_first_last(s):\n",
    "    if len(s) <= 1:\n",
    "        return s\n",
    "    return s[-1] + s[1:-1] + s[0]\n",
    "\n",
    "string =input(\"Enter a word: \")\n",
    "new_string = swap_first_last(string)\n",
    "print(new_string)\n"
   ]
  },
  {
   "cell_type": "markdown",
   "id": "c422002d",
   "metadata": {},
   "source": [
    "## 10. Accept the radius from user and find area of circle."
   ]
  },
  {
   "cell_type": "code",
   "execution_count": 10,
   "id": "765fff11",
   "metadata": {},
   "outputs": [
    {
     "name": "stdout",
     "output_type": "stream",
     "text": [
      "Enter the radius: 3\n",
      "Area= 28.26\n"
     ]
    }
   ],
   "source": [
    "radius=float(input(\"Enter the radius: \"))\n",
    "pi=3.14\n",
    "area=pi*(radius**2)\n",
    "print(\"Area=\",area)"
   ]
  },
  {
   "cell_type": "markdown",
   "id": "d175e404",
   "metadata": {},
   "source": [
    "## 11. Find biggest of three numbers entered."
   ]
  },
  {
   "cell_type": "code",
   "execution_count": 17,
   "id": "989337f0",
   "metadata": {},
   "outputs": [
    {
     "name": "stdout",
     "output_type": "stream",
     "text": [
      "Enter the first number: 4\n",
      "Enter the second number: 5\n",
      "Enter the third number: 2\n",
      "\n",
      "Number2 is biggest\n"
     ]
    }
   ],
   "source": [
    "number1=int(input(\"Enter the first number: \"))\n",
    "number2=int(input(\"Enter the second number: \"))\n",
    "number3=int(input(\"Enter the third number: \"))\n",
    "if(number1>number2 and number1>3):\n",
    "    print(\"\\nNumber1 is biggest\")\n",
    "elif(number2>3):\n",
    "    print(\"\\nNumber2 is biggest\")\n",
    "else:\n",
    "    print(\"\\nNumber3 is biggest\")"
   ]
  },
  {
   "cell_type": "markdown",
   "id": "8f73ef91",
   "metadata": {},
   "source": [
    "## 12.Accept a file name from the user and print extension of that."
   ]
  },
  {
   "cell_type": "code",
   "execution_count": 21,
   "id": "77c42916",
   "metadata": {},
   "outputs": [
    {
     "name": "stdout",
     "output_type": "stream",
     "text": [
      "Enter the file name: hello.txt\n",
      "The file extension is: txt\n"
     ]
    }
   ],
   "source": [
    "file_name = input(\"Enter the file name: \")\n",
    "file_extension = file_name.split('.')[-1]\n",
    "print(f\"The file extension is: {file_extension}\")\n"
   ]
  },
  {
   "cell_type": "markdown",
   "id": "52c6d8ed",
   "metadata": {},
   "source": [
    "## 13.Create a list of colors from comma-seperated color names entered by user.Display first and last colors."
   ]
  },
  {
   "cell_type": "code",
   "execution_count": 22,
   "id": "70b42903",
   "metadata": {},
   "outputs": [
    {
     "name": "stdout",
     "output_type": "stream",
     "text": [
      "Enter color names separated by commas: blue,yellow,green,red\n",
      "First color: blue\n",
      "Last color: red\n"
     ]
    }
   ],
   "source": [
    "color_names = input(\"Enter color names separated by commas: \")\n",
    "colors_list = [color.strip() for color in color_names.split(',')] \n",
    "if colors_list:\n",
    "    print(f\"First color: {colors_list[0]}\") \n",
    "    print(f\"Last color: {colors_list[-1]}\") \n",
    "else:\n",
    "    print(\"No colors entered.\")"
   ]
  },
  {
   "cell_type": "markdown",
   "id": "1b479a86",
   "metadata": {},
   "source": [
    "## 14.Accept an integer n and calculate n+nn+nnn."
   ]
  },
  {
   "cell_type": "code",
   "execution_count": 24,
   "id": "568fad7b",
   "metadata": {},
   "outputs": [
    {
     "name": "stdout",
     "output_type": "stream",
     "text": [
      "Enter a integer value: 4\n",
      "Result= 84\n"
     ]
    }
   ],
   "source": [
    "n=int(input(\"Enter a integer value: \"))\n",
    "result=n+(n**2)+(n**3)\n",
    "print(\"Result=\",result)"
   ]
  },
  {
   "cell_type": "markdown",
   "id": "ee5cc764",
   "metadata": {},
   "source": [
    "## 15.Print out all colors from color-list1 and not contained in color-list2."
   ]
  },
  {
   "cell_type": "code",
   "execution_count": 26,
   "id": "b48ebb08",
   "metadata": {},
   "outputs": [
    {
     "name": "stdout",
     "output_type": "stream",
     "text": [
      "Enter color-list1 (comma-separated): red,green,blue,yellow\n",
      "Enter color-list2 (comma-separated): red,blue,yellow\n",
      "Colors in color-list1 but not in color-list2: ['green']\n"
     ]
    }
   ],
   "source": [
    "color_list1 = input(\"Enter color-list1 (comma-separated): \").split(',')\n",
    "color_list2 = input(\"Enter color-list2 (comma-separated): \").split(',')\n",
    "color_list1 = [color.strip() for color in color_list1]\n",
    "color_list2 = [color.strip() for color in color_list2]\n",
    "unique_colors = [color for color in color_list1 if color not in color_list2]\n",
    "print(\"Colors in color-list1 but not in color-list2:\", unique_colors)"
   ]
  },
  {
   "cell_type": "markdown",
   "id": "300d37be",
   "metadata": {},
   "source": [
    "## 16.Create a single string seperated with space from two strings by swapping the character at position 1."
   ]
  },
  {
   "cell_type": "code",
   "execution_count": 30,
   "id": "cf15a1f9",
   "metadata": {},
   "outputs": [
    {
     "name": "stdout",
     "output_type": "stream",
     "text": [
      "Enter the first string: wello\n",
      "Enter the second string: horld\n",
      "hello world\n"
     ]
    }
   ],
   "source": [
    "def swap_and_combine():\n",
    "    str1 = input(\"Enter the first string: \")\n",
    "    str2 = input(\"Enter the second string: \")\n",
    "    if len(str1) < 2 or len(str2) < 2:\n",
    "        return \"Both strings must have at least 2 characters.\"\n",
    "    new_str1 = str2[0] + str1[1:]\n",
    "    new_str2 = str1[0] + str2[1:]\n",
    "    return new_str1 + ' ' + new_str2\n",
    "result = swap_and_combine()\n",
    "print(result)"
   ]
  },
  {
   "cell_type": "markdown",
   "id": "bf659403",
   "metadata": {},
   "source": [
    "## 17. Sort dictionary in ascending and descending order."
   ]
  },
  {
   "cell_type": "code",
   "execution_count": 31,
   "id": "b6e21f95",
   "metadata": {},
   "outputs": [
    {
     "name": "stdout",
     "output_type": "stream",
     "text": [
      "Ascending order: {'apple': 2, 'banana': 3, 'kiwi': 4, 'orange': 5}\n",
      "Descending order: {'orange': 5, 'kiwi': 4, 'banana': 3, 'apple': 2}\n"
     ]
    }
   ],
   "source": [
    "sample_dict = {\n",
    "    'apple': 2,\n",
    "    'orange': 5,\n",
    "    'banana': 3,\n",
    "    'kiwi': 4\n",
    "}\n",
    "ascending_order = dict(sorted(sample_dict.items()))\n",
    "print(\"Ascending order:\", ascending_order)\n",
    "descending_order = dict(sorted(sample_dict.items(), reverse=True))\n",
    "print(\"Descending order:\", descending_order)"
   ]
  },
  {
   "cell_type": "markdown",
   "id": "74487248",
   "metadata": {},
   "source": [
    "## 18.Merge two dictionaries."
   ]
  },
  {
   "cell_type": "code",
   "execution_count": 32,
   "id": "2f97e12a",
   "metadata": {},
   "outputs": [
    {
     "name": "stdout",
     "output_type": "stream",
     "text": [
      "{'a': 1, 'b': 2, 'c': 3, 'd': 4}\n"
     ]
    }
   ],
   "source": [
    "dict1 = {'a': 1, 'b': 2}\n",
    "dict2 = {'c': 3, 'd': 4}\n",
    "merged_dict = {**dict1, **dict2}\n",
    "print(merged_dict)"
   ]
  },
  {
   "cell_type": "markdown",
   "id": "abbb369b",
   "metadata": {},
   "source": [
    "## 19.Find gcd of two numbers."
   ]
  },
  {
   "cell_type": "code",
   "execution_count": 34,
   "id": "8f14a2a3",
   "metadata": {},
   "outputs": [
    {
     "name": "stdout",
     "output_type": "stream",
     "text": [
      "Enter the first number: 45\n",
      "Enter the second number: 55\n",
      "The GCD of 45 and 55 is: 5\n"
     ]
    }
   ],
   "source": [
    "import math\n",
    "num1 = int(input(\"Enter the first number: \"))\n",
    "num2 = int(input(\"Enter the second number: \"))\n",
    "gcd = math.gcd(num1, num2)\n",
    "print(f\"The GCD of {num1} and {num2} is: {gcd}\")"
   ]
  },
  {
   "cell_type": "markdown",
   "id": "6cc35fcf",
   "metadata": {},
   "source": [
    "## 20. From a list of given integers,create a list removing even numbers."
   ]
  },
  {
   "cell_type": "code",
   "execution_count": 36,
   "id": "de86f467",
   "metadata": {},
   "outputs": [
    {
     "name": "stdout",
     "output_type": "stream",
     "text": [
      "Enter a list of integers separated by spaces: 2 3 4 5 6 7\n",
      "[3, 5, 7]\n"
     ]
    }
   ],
   "source": [
    "user_input = input(\"Enter a list of integers separated by spaces: \")\n",
    "integers = [int(i) for i in user_input.split()]\n",
    "odd_numbers = [num for num in integers if num % 2 != 0]\n",
    "print(odd_numbers)"
   ]
  }
 ],
 "metadata": {
  "kernelspec": {
   "display_name": "Python 3 (ipykernel)",
   "language": "python",
   "name": "python3"
  },
  "language_info": {
   "codemirror_mode": {
    "name": "ipython",
    "version": 3
   },
   "file_extension": ".py",
   "mimetype": "text/x-python",
   "name": "python",
   "nbconvert_exporter": "python",
   "pygments_lexer": "ipython3",
   "version": "3.9.13"
  }
 },
 "nbformat": 4,
 "nbformat_minor": 5
}
