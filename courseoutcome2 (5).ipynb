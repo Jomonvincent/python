{
 "cells": [
  {
   "cell_type": "markdown",
   "id": "ce2fe8dd",
   "metadata": {},
   "source": [
    "# Course outcome 2"
   ]
  },
  {
   "cell_type": "markdown",
   "id": "1c62e4b5",
   "metadata": {},
   "source": [
    "## 1.Program to find factorial of a number."
   ]
  },
  {
   "cell_type": "code",
   "execution_count": 8,
   "id": "3bea724d",
   "metadata": {},
   "outputs": [
    {
     "name": "stdout",
     "output_type": "stream",
     "text": [
      "Enter a number: \n",
      "Factorial= 1\n"
     ]
    }
   ],
   "source": [
    "number=print(\"Enter a number: \")\n",
    "fact=1\n",
    "while number:\n",
    "    fact=fact*number\n",
    "    number=number-1\n",
    "print(\"Factorial=\",fact)"
   ]
  },
  {
   "cell_type": "markdown",
   "id": "069197bf",
   "metadata": {},
   "source": [
    "## 2.Fibonacci sequence upto n numbers"
   ]
  },
  {
   "cell_type": "code",
   "execution_count": null,
   "id": "f77f35ee",
   "metadata": {},
   "outputs": [],
   "source": [
    "n=int(input(\"Enter a number \"))\n",
    "num1=0\n",
    "num2=1\n",
    "nextn=num2  \n",
    "count=1\n",
    "\n",
    "while count<=n:\n",
    "    print(nextn,end=\" \")\n",
    "    count+=1\n",
    "    num1,num2=num2,nextn\n",
    "    nextn=num1+num2"
   ]
  },
  {
   "cell_type": "markdown",
   "id": "46172181",
   "metadata": {},
   "source": [
    "## 3.Sum of all items in a list"
   ]
  },
  {
   "cell_type": "code",
   "execution_count": 6,
   "id": "bc26ae3a",
   "metadata": {},
   "outputs": [
    {
     "name": "stdout",
     "output_type": "stream",
     "text": [
      "Sum= 15\n"
     ]
    }
   ],
   "source": [
    "list1=[1,2,3,4,5]\n",
    "list1 = [int(i) for i in list1]\n",
    "sum=0\n",
    "for i in list1:\n",
    "    sum=sum+i\n",
    "print(\"Sum=\",sum)"
   ]
  },
  {
   "cell_type": "markdown",
   "id": "a1221f9e",
   "metadata": {},
   "source": [
    "## 4.Four digit numbers in given range with all their digits even and number is a perfect square"
   ]
  },
  {
   "cell_type": "code",
   "execution_count": 10,
   "id": "fab90a3c",
   "metadata": {},
   "outputs": [
    {
     "name": "stdout",
     "output_type": "stream",
     "text": [
      "Four-digit numbers that are perfect squares and have all even digits:\n",
      "[4624, 6084, 6400, 8464]\n"
     ]
    }
   ],
   "source": [
    "import math\n",
    "\n",
    "def all_even_digits(number):\n",
    "    for digit in str(number):\n",
    "        if int(digit) % 2 != 0:\n",
    "            return False\n",
    "    return True\n",
    "\n",
    "def find_even_digit_perfect_squares():\n",
    "    results = []\n",
    "    for num in range(1000, 10000):\n",
    "        root = int(math.sqrt(num))\n",
    "        if root * root == num and all_even_digits(num):\n",
    "            results.append(num)\n",
    "    return results\n",
    "perfect_squares = find_even_digit_perfect_squares()\n",
    "print(\"Four-digit numbers that are perfect squares and have all even digits:\")\n",
    "print(perfect_squares)"
   ]
  },
  {
   "cell_type": "markdown",
   "id": "5a445d10",
   "metadata": {},
   "source": [
    "## 5.Number pyramid"
   ]
  },
  {
   "cell_type": "code",
   "execution_count": 12,
   "id": "f667a1ee",
   "metadata": {},
   "outputs": [
    {
     "name": "stdout",
     "output_type": "stream",
     "text": [
      "Enter a number 5\n",
      "1 \n",
      "2 4 \n",
      "3 6 9 \n",
      "4 8 12 16 \n",
      "5 10 15 20 25 \n"
     ]
    }
   ],
   "source": [
    "n=int(input(\"Enter a number \"))\n",
    "for i in range(1,n+1):\n",
    "    for j in range(1,i+1):\n",
    "        print(i*j, end=\" \")\n",
    "    print()"
   ]
  },
  {
   "cell_type": "markdown",
   "id": "14f38007",
   "metadata": {},
   "source": [
    "## 6.Character frequency in a string"
   ]
  },
  {
   "cell_type": "code",
   "execution_count": 13,
   "id": "3c0f1763",
   "metadata": {},
   "outputs": [
    {
     "name": "stdout",
     "output_type": "stream",
     "text": [
      "Enter a string: Nithin\n",
      "Character frequencies in the string:\n",
      "'N': 1\n",
      "'i': 2\n",
      "'t': 1\n",
      "'h': 1\n",
      "'n': 1\n"
     ]
    }
   ],
   "source": [
    "user_input = input(\"Enter a string: \")\n",
    "\n",
    "char_freq = {}\n",
    "\n",
    "for char in user_input:\n",
    "    if char in char_freq:\n",
    "        char_freq[char] += 1\n",
    "    else:\n",
    "        char_freq[char] = 1\n",
    "\n",
    "print(\"Character frequencies in the string:\")\n",
    "for char, freq in char_freq.items():\n",
    "    print(f\"'{char}': {freq}\")"
   ]
  },
  {
   "cell_type": "markdown",
   "id": "e9e4666c",
   "metadata": {},
   "source": [
    "## 7.Add 'ing' to the end of a string,if ing already exists,replace it with 'ily'."
   ]
  },
  {
   "cell_type": "code",
   "execution_count": 18,
   "id": "35c191cc",
   "metadata": {},
   "outputs": [
    {
     "name": "stdout",
     "output_type": "stream",
     "text": [
      "Enter a string: noth\n",
      "The modified string is: nothing\n"
     ]
    }
   ],
   "source": [
    "def add_ing_or_replace_ily(word):\n",
    "    if word.endswith(\"ing\"):\n",
    "        return word[:-3] + \"ily\"\n",
    "    else:\n",
    "        return word + \"ing\"\n",
    "\n",
    "user_input = input(\"Enter a string: \")\n",
    "\n",
    "modified_string = add_ing_or_replace_ily(user_input)\n",
    "\n",
    "print(f\"The modified string is: {modified_string}\")"
   ]
  },
  {
   "cell_type": "markdown",
   "id": "5fe584a8",
   "metadata": {},
   "source": [
    "## 8. Accept a list of words and return length of longest word."
   ]
  },
  {
   "cell_type": "code",
   "execution_count": 21,
   "id": "e54163b0",
   "metadata": {},
   "outputs": [
    {
     "name": "stdout",
     "output_type": "stream",
     "text": [
      "Enter a list of words separated by spaces: i am inevitable\n",
      "The length of the longest word is: 10\n"
     ]
    }
   ],
   "source": [
    "def length_of_longest_word(word_list):\n",
    "    if not word_list:\n",
    "        return 0\n",
    "    return len(max(word_list, key=len))\n",
    "\n",
    "user_input = input(\"Enter a list of words separated by spaces: \")\n",
    "\n",
    "words = user_input.split()\n",
    "\n",
    "longest_length = length_of_longest_word(words)\n",
    "\n",
    "print(f\"The length of the longest word is: {longest_length}\")"
   ]
  },
  {
   "cell_type": "markdown",
   "id": "31b917cf",
   "metadata": {},
   "source": [
    "## 9.Pattern"
   ]
  },
  {
   "cell_type": "code",
   "execution_count": 22,
   "id": "e0c62264",
   "metadata": {},
   "outputs": [
    {
     "name": "stdout",
     "output_type": "stream",
     "text": [
      "*\n",
      "**\n",
      "***\n",
      "****\n",
      "*****\n",
      "****\n",
      "***\n",
      "**\n",
      "*\n"
     ]
    }
   ],
   "source": [
    "rows=5\n",
    "for i in range(1,rows+1):\n",
    "    for j in range(i):\n",
    "        print(\"*\",end=\"\")\n",
    "    print()\n",
    "for i in range(rows-1,0,-1):\n",
    "    for j in range(i):\n",
    "        print(\"*\",end=\"\")\n",
    "    print()"
   ]
  },
  {
   "cell_type": "markdown",
   "id": "c8c882a3",
   "metadata": {},
   "source": [
    "## 10.Generate factors of the number 35."
   ]
  },
  {
   "cell_type": "code",
   "execution_count": 25,
   "id": "bfabff43",
   "metadata": {},
   "outputs": [
    {
     "name": "stdout",
     "output_type": "stream",
     "text": [
      "1\n",
      "5\n",
      "7\n",
      "35\n"
     ]
    }
   ],
   "source": [
    "n=35\n",
    "i=1\n",
    "while(i!=n+1):\n",
    "    if(n%i==0):\n",
    "        print(i)\n",
    "    i=i+1"
   ]
  },
  {
   "cell_type": "markdown",
   "id": "bf3f4f8f",
   "metadata": {},
   "source": [
    "## 11.Write lambda functions to find area of square,rectangle and triangle."
   ]
  },
  {
   "cell_type": "code",
   "execution_count": 42,
   "id": "ffec9da7",
   "metadata": {},
   "outputs": [
    {
     "name": "stdout",
     "output_type": "stream",
     "text": [
      "Enter the side of square 5\n",
      "\n",
      "Enter the length of rectangle 6\n",
      "Enter the breadth of rectangle 7\n",
      "\n",
      "Enter the breadth of triangle 7\n",
      "Enter the height of triangle 8\n",
      "\n",
      "Area of square= 25\n",
      "Area of rectangle= 42.0\n",
      "Area of triangle= 28.0\n"
     ]
    }
   ],
   "source": [
    "side_square=int(input(\"Enter the side of square \"))\n",
    "\n",
    "length= float(input(\"\\nEnter the length of rectangle \")) \n",
    "breadth= float(input(\"Enter the breadth of rectangle \")) \n",
    "\n",
    "breadth1= float(input(\"\\nEnter the breadth of triangle \")) \n",
    "height= float(input(\"Enter the height of triangle \")) \n",
    "\n",
    "square=lambda x:x*x\n",
    "\n",
    "rectangle=lambda x,y:x*y\n",
    "\n",
    "triangle=lambda x,y:.5*x*y\n",
    "\n",
    "\n",
    "area=square(side_square)\n",
    "area_re=rectangle(length,breadth)\n",
    "area_tr=triangle(breadth1,height)\n",
    "\n",
    "print(\"\\nArea of square=\",area)\n",
    "print(\"Area of rectangle=\",area_re)\n",
    "print(\"Area of triangle=\",area_tr)"
   ]
  }
 ],
 "metadata": {
  "kernelspec": {
   "display_name": "Python 3 (ipykernel)",
   "language": "python",
   "name": "python3"
  },
  "language_info": {
   "codemirror_mode": {
    "name": "ipython",
    "version": 3
   },
   "file_extension": ".py",
   "mimetype": "text/x-python",
   "name": "python",
   "nbconvert_exporter": "python",
   "pygments_lexer": "ipython3",
   "version": "3.9.13"
  }
 },
 "nbformat": 4,
 "nbformat_minor": 5
}
